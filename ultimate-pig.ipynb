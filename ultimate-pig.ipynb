{
 "cells": [
  {
   "cell_type": "code",
   "execution_count": 3,
   "metadata": {
    "collapsed": true
   },
   "outputs": [],
   "source": [
    "import math\n",
    "import random\n",
    "import statistics as st\n",
    "import matplotlib.pyplot as plt"
   ]
  },
  {
   "cell_type": "code",
   "execution_count": 4,
   "metadata": {
    "collapsed": true
   },
   "outputs": [],
   "source": [
    "%matplotlib inline"
   ]
  },
  {
   "cell_type": "code",
   "execution_count": 5,
   "metadata": {
    "collapsed": false
   },
   "outputs": [],
   "source": [
    "def roll_die():\n",
    "    return random.randint(1, 6)"
   ]
  },
  {
   "cell_type": "code",
   "execution_count": 6,
   "metadata": {
    "collapsed": false
   },
   "outputs": [],
   "source": [
    "class Player:\n",
    "    def __init__(self, points):\n",
    "        self.points = points\n",
    "        \n",
    "    def roll_die(self):\n",
    "        return random.randint(1, 6)\n",
    "    \n",
    "    \n",
    "    def should_roll_again(self, number):\n",
    "        return False\n",
    "    \n",
    "    \n",
    "class CautiousPlayer(Player):\n",
    "    def __init__(self, points):\n",
    "        super().__init__(points)\n",
    "        \n",
    "        \n",
    "    def should_roll_again(self, number):\n",
    "        if number >= 2:\n",
    "            return False\n",
    "        else:\n",
    "            return True\n",
    "     \n",
    "    \n",
    "\n",
    "class MedPlayer(Player):\n",
    "    def __init__(self, points):\n",
    "        super().__init__(points)\n",
    "        \n",
    "        \n",
    "    def should_roll_again(self, number):\n",
    "        if number >= 4:\n",
    "            return False\n",
    "        else:\n",
    "            return True    \n",
    "    \n",
    "    \n",
    "\n",
    "class RiskyPlayer(Player):\n",
    "    def __init__(self, points):\n",
    "        super().__init__(points)\n",
    "        \n",
    "        \n",
    "    def should_roll_again(self, number):\n",
    "        if number >= 6:\n",
    "            return False\n",
    "        else:\n",
    "            return True\n",
    "        \n",
    "        \n",
    "class CrazyPlayer(Player):\n",
    "    def __init__(self, points):\n",
    "        super().__init__(points)\n",
    "        \n",
    "        \n",
    "    def should_roll_again(self, number):\n",
    "        if number >= 7:\n",
    "            return False\n",
    "        else:\n",
    "            return True"
   ]
  },
  {
   "cell_type": "code",
   "execution_count": 9,
   "metadata": {
    "collapsed": false
   },
   "outputs": [],
   "source": [
    "class PigSolitaireGame:\n",
    "    def __init__(self, player):\n",
    "        self.player = player\n",
    "\n",
    "    \n",
    "    def reset(self):\n",
    "        self.points = 0\n",
    "        self.rolls = 0   \n",
    "        \n",
    "    def play_game(self):\n",
    "        self.reset()  \n",
    "        for _ in range(7):\n",
    "            while True: \n",
    "                self.rolls += 1\n",
    "                number = roll_die()\n",
    "                if number == 1:\n",
    "                    self.points = 0\n",
    "                else:\n",
    "                    self.points += number\n",
    "                if self.player.should_roll_again(number) == False:\n",
    "                    self.points += number\n",
    "                    break\n",
    "        return self.points "
   ]
  },
  {
   "cell_type": "code",
   "execution_count": 57,
   "metadata": {
    "collapsed": false
   },
   "outputs": [
    {
     "name": "stdout",
     "output_type": "stream",
     "text": [
      "56\n",
      "20\n",
      "22\n"
     ]
    }
   ],
   "source": [
    "print(PigSolitaireGame(CautiousPlayer(0)).play_game())\n",
    "print(PigSolitaireGame(MedPlayer(0)).play_game())\n",
    "print(PigSolitaireGame(RiskyPlayer(0)).play_game())"
   ]
  },
  {
   "cell_type": "code",
   "execution_count": 18,
   "metadata": {
    "collapsed": false
   },
   "outputs": [],
   "source": [
    "# print(PigSolitaireGame(CrazyPlayer(0)).play_game())"
   ]
  },
  {
   "cell_type": "code",
   "execution_count": 19,
   "metadata": {
    "collapsed": true
   },
   "outputs": [],
   "source": [
    "def cautious_test_runs(x):\n",
    "    return [PigSolitaireGame(CautiousPlayer(0)).play_game() for x in range(x)]"
   ]
  },
  {
   "cell_type": "code",
   "execution_count": 20,
   "metadata": {
    "collapsed": true
   },
   "outputs": [],
   "source": [
    "def med_test_runs(x):\n",
    "    return [PigSolitaireGame(MedPlayer(0)).play_game() for x in range(x)]"
   ]
  },
  {
   "cell_type": "code",
   "execution_count": 21,
   "metadata": {
    "collapsed": true
   },
   "outputs": [],
   "source": [
    "def risky_test_runs(x):\n",
    "    return [PigSolitaireGame(RiskyPlayer(0)).play_game() for x in range(x)]"
   ]
  },
  {
   "cell_type": "code",
   "execution_count": 22,
   "metadata": {
    "collapsed": true
   },
   "outputs": [],
   "source": [
    "def crazy_test_runs(x):\n",
    "    return [PigSolitaireGame(RiskyPlayer(0)).play_game() for x in range(x)]"
   ]
  },
  {
   "cell_type": "code",
   "execution_count": 24,
   "metadata": {
    "collapsed": false
   },
   "outputs": [],
   "source": [
    "cautious1 = cautious_test_runs(1000)\n",
    "medium1 = med_test_runs(1000)\n",
    "risky1 = risky_test_runs(1000)\n",
    "# crazy1 = crazy_test_runs(1000)\n",
    "\n",
    "\n",
    "cautious2 = cautious_test_runs(100000)\n",
    "medium2 = med_test_runs(100000)\n",
    "risky2 = risky_test_runs(100000)\n",
    "# crazy2 = crazy_test_runs(1000)"
   ]
  },
  {
   "cell_type": "code",
   "execution_count": 63,
   "metadata": {
    "collapsed": false
   },
   "outputs": [
    {
     "name": "stdout",
     "output_type": "stream",
     "text": [
      "34.6783\n",
      "39.09187\n",
      "37.5964\n"
     ]
    }
   ],
   "source": [
    "cautious2_mean = st.mean(cautious2)\n",
    "medium2_mean = st.mean(medium2)\n",
    "risky2_mean = st.mean(risky2)\n",
    "print(cautious2_mean)\n",
    "print(medium2_mean)\n",
    "print(risky2_mean)"
   ]
  },
  {
   "cell_type": "code",
   "execution_count": 32,
   "metadata": {
    "collapsed": false,
    "scrolled": true
   },
   "outputs": [
    {
     "data": {
      "image/png": "[encoded data removed]",
      "text/plain": [
       "<matplotlib.figure.Figure at 0x10655a6d8>"
      ]
     },
     "metadata": {},
     "output_type": "display_data"
    }
   ],
   "source": [
    "plt.hist(cautious1, bins=25)\n",
    "plt.show()"
   ]
  },
  {
   "cell_type": "code",
   "execution_count": 70,
   "metadata": {
    "collapsed": false
   },
   "outputs": [
    {
     "data": {
      "image/png": "[encoded data removed]",
      "text/plain": [
       "<matplotlib.figure.Figure at 0x10670ffd0>"
      ]
     },
     "metadata": {},
     "output_type": "display_data"
    }
   ],
   "source": [
    "plt.hist(cautious2, bins=25)\n",
    "plt.vlines(cautious2_mean, ymin=0, ymax=9000, color='red')\n",
    "plt.show()"
   ]
  },
  {
   "cell_type": "code",
   "execution_count": 34,
   "metadata": {
    "collapsed": false
   },
   "outputs": [
    {
     "data": {
      "image/png": "[encoded data removed]",
      "text/plain": [
       "<matplotlib.figure.Figure at 0x102a44588>"
      ]
     },
     "metadata": {},
     "output_type": "display_data"
    }
   ],
   "source": [
    "plt.hist(medium1, bins=25)\n",
    "plt.show()"
   ]
  },
  {
   "cell_type": "code",
   "execution_count": 71,
   "metadata": {
    "collapsed": false
   },
   "outputs": [
    {
     "data": {
      "image/png": "[encoded data removed]",
      "text/plain": [
       "<matplotlib.figure.Figure at 0x10640aa90>"
      ]
     },
     "metadata": {},
     "output_type": "display_data"
    }
   ],
   "source": [
    "plt.hist(medium2, bins=25)\n",
    "plt.vlines(medium2_mean, ymin=0, ymax=20000, color='red')\n",
    "plt.show()"
   ]
  },
  {
   "cell_type": "code",
   "execution_count": 36,
   "metadata": {
    "collapsed": false
   },
   "outputs": [
    {
     "data": {
      "image/png": "[encoded data removed]",
      "text/plain": [
       "<matplotlib.figure.Figure at 0x1046ee6a0>"
      ]
     },
     "metadata": {},
     "output_type": "display_data"
    }
   ],
   "source": [
    "plt.hist(risky1, bins=25)\n",
    "plt.show()"
   ]
  },
  {
   "cell_type": "code",
   "execution_count": 72,
   "metadata": {
    "collapsed": false
   },
   "outputs": [
    {
     "data": {
      "image/png": "[encoded data removed]",
      "text/plain": [
       "<matplotlib.figure.Figure at 0x105088080>"
      ]
     },
     "metadata": {},
     "output_type": "display_data"
    }
   ],
   "source": [
    "plt.hist(risky2, bins=25)\n",
    "plt.vlines(risky2_mean, ymin=0, ymax=40000, color='red')\n",
    "plt.show()"
   ]
  },
  {
   "cell_type": "code",
   "execution_count": null,
   "metadata": {
    "collapsed": false
   },
   "outputs": [],
   "source": [
    "plt.hist(crazy1)\n",
    "plt.show()"
   ]
  },
  {
   "cell_type": "code",
   "execution_count": null,
   "metadata": {
    "collapsed": false
   },
   "outputs": [],
   "source": [
    "plt.hist(crazy2)\n",
    "plt.show()"
   ]
  },
  {
   "cell_type": "markdown",
   "metadata": {},
   "source": [
    "The above graphs point towards a moderate playing style that is neither overly aggressive nor overly careful being most likly to lead to an increased score and a greater chance of winning the game. While not a large difference, the data shows that the player taking a moderate level of risk during the simulations outscored the other simulated levels of risk taken."
   ]
  }
 ],
 "metadata": {
  "kernelspec": {
   "display_name": "Python 3",
   "language": "python",
   "name": "python3"
  },
  "language_info": {
   "codemirror_mode": {
    "name": "ipython",
    "version": 3
   },
   "file_extension": ".py",
   "mimetype": "text/x-python",
   "name": "python",
   "nbconvert_exporter": "python",
   "pygments_lexer": "ipython3",
   "version": "3.4.3"
  }
 },
 "nbformat": 4,
 "nbformat_minor": 0
}
